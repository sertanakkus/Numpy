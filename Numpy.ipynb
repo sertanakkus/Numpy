{
 "cells": [
  {
   "cell_type": "code",
   "execution_count": 1,
   "id": "bc257b3f",
   "metadata": {},
   "outputs": [],
   "source": [
    "import numpy as np"
   ]
  },
  {
   "cell_type": "markdown",
   "id": "b553efdc",
   "metadata": {},
   "source": [
    "# 1- Create Arrays"
   ]
  },
  {
   "cell_type": "code",
   "execution_count": 2,
   "id": "b4d49443",
   "metadata": {},
   "outputs": [
    {
     "data": {
      "text/plain": [
       "[[1, 2, 3, 4], [5, 6, 7, 8]]"
      ]
     },
     "execution_count": 2,
     "metadata": {},
     "output_type": "execute_result"
    }
   ],
   "source": [
    "data1 = [1,2,3,4,5] # list\n",
    "arr1 = np.array(data1) # 1d array\n",
    "\n",
    "data2 = [range(1, 5), range(5, 9)] # list of lists\n",
    "arr2 = np.array(data2) # 2d array\n",
    "arr2.tolist() # convert array back to list"
   ]
  },
  {
   "cell_type": "markdown",
   "id": "66c5e3df",
   "metadata": {},
   "source": [
    "### special arrays"
   ]
  },
  {
   "cell_type": "code",
   "execution_count": 3,
   "id": "3d59298a",
   "metadata": {},
   "outputs": [
    {
     "data": {
      "text/plain": [
       "array([   1.,   10.,  100., 1000.])"
      ]
     },
     "execution_count": 3,
     "metadata": {},
     "output_type": "execute_result"
    }
   ],
   "source": [
    "np.zeros(10)\n",
    "np.zeros((3, 6))\n",
    "np.ones(10)\n",
    "np.linspace(0, 1, 5) # 0 to 1 (inclusive) with 5 points\n",
    "np.logspace(0, 3, 4) # 10^0 to 10^3 (inclusive) with 4 points"
   ]
  },
  {
   "cell_type": "code",
   "execution_count": 4,
   "id": "7744fd07",
   "metadata": {},
   "outputs": [
    {
     "data": {
      "text/plain": [
       "array([0., 1., 2., 3., 4.])"
      ]
     },
     "execution_count": 4,
     "metadata": {},
     "output_type": "execute_result"
    }
   ],
   "source": [
    "# arange is like range, except it returns an array (not a list)\n",
    "int_array = np.arange(5)\n",
    "float_array = int_array.astype(float)\n",
    "float_array"
   ]
  },
  {
   "cell_type": "markdown",
   "id": "88cbaeed",
   "metadata": {},
   "source": [
    "## 2- Examining Arrays"
   ]
  },
  {
   "cell_type": "code",
   "execution_count": 5,
   "id": "7b83ce1b",
   "metadata": {},
   "outputs": [
    {
     "data": {
      "text/plain": [
       "2"
      ]
     },
     "execution_count": 5,
     "metadata": {},
     "output_type": "execute_result"
    }
   ],
   "source": [
    "arr1.dtype # float64\n",
    "arr2.ndim # 2\n",
    "arr2.shape # (2, 4) - axis 0 is rows, axis 1 is columns\n",
    "arr2.size # 8 - total number of elements\n",
    "len(arr2) # 2 - size of first dimension (aka axis)"
   ]
  },
  {
   "cell_type": "markdown",
   "id": "28b562d0",
   "metadata": {},
   "source": [
    "## 3- Reshaping"
   ]
  },
  {
   "cell_type": "code",
   "execution_count": 6,
   "id": "b25ae5bb",
   "metadata": {},
   "outputs": [
    {
     "name": "stdout",
     "output_type": "stream",
     "text": [
      "(2, 5)\n",
      "[[0. 1.]\n",
      " [2. 3.]\n",
      " [4. 5.]\n",
      " [6. 7.]\n",
      " [8. 9.]]\n"
     ]
    }
   ],
   "source": [
    "arr = np.arange(10, dtype=float).reshape((2, 5))\n",
    "print(arr.shape)\n",
    "print(arr.reshape(5, 2))"
   ]
  },
  {
   "cell_type": "markdown",
   "id": "1c5e5345",
   "metadata": {},
   "source": [
    "### add a new axis"
   ]
  },
  {
   "cell_type": "code",
   "execution_count": 7,
   "id": "59dbd1b2",
   "metadata": {},
   "outputs": [
    {
     "name": "stdout",
     "output_type": "stream",
     "text": [
      "[[0]\n",
      " [1]]\n"
     ]
    }
   ],
   "source": [
    "a = np.array([0, 1])\n",
    "a_col = a[:, np.newaxis]\n",
    "print(a_col)\n",
    "#or\n",
    "a_col = a[:, None]"
   ]
  },
  {
   "cell_type": "markdown",
   "id": "a97e4a12",
   "metadata": {},
   "source": [
    "### transpose"
   ]
  },
  {
   "cell_type": "code",
   "execution_count": 8,
   "id": "640155e6",
   "metadata": {},
   "outputs": [
    {
     "name": "stdout",
     "output_type": "stream",
     "text": [
      "[[0 1]]\n"
     ]
    }
   ],
   "source": [
    "print(a_col.T)"
   ]
  },
  {
   "cell_type": "markdown",
   "id": "d7b58654",
   "metadata": {},
   "source": [
    "### Flatten: returns a flat copy of the orriginal array"
   ]
  },
  {
   "cell_type": "code",
   "execution_count": 9,
   "id": "19b3de20",
   "metadata": {},
   "outputs": [
    {
     "name": "stdout",
     "output_type": "stream",
     "text": [
      "[33.  1.  2.  3.  4.  5.  6.  7.  8.  9.]\n",
      "[[0. 1. 2. 3. 4.]\n",
      " [5. 6. 7. 8. 9.]]\n"
     ]
    }
   ],
   "source": [
    "arr_flt = arr.flatten()\n",
    "arr_flt[0] = 33\n",
    "print(arr_flt)\n",
    "print(arr)"
   ]
  },
  {
   "cell_type": "markdown",
   "id": "3cd0e4df",
   "metadata": {},
   "source": [
    "## 4- Summary on axis, reshaping/flattening and selection"
   ]
  },
  {
   "cell_type": "markdown",
   "id": "1b69c648",
   "metadata": {},
   "source": [
    "<img src=\"https://duchesnay.github.io/pystatsml/_images/numpy_array3d.png\" width=300 height=300 />"
   ]
  },
  {
   "cell_type": "code",
   "execution_count": 10,
   "id": "18fa7058",
   "metadata": {},
   "outputs": [
    {
     "name": "stdout",
     "output_type": "stream",
     "text": [
      "[ 0  1  2  3  4  5  6  7  8  9 10 11 12 13 14 15 16 17 18 19 20 21 22 23]\n"
     ]
    }
   ],
   "source": [
    "x = np.arange(2 * 3 * 4)\n",
    "print(x)"
   ]
  },
  {
   "cell_type": "code",
   "execution_count": 11,
   "id": "5b28d68e",
   "metadata": {},
   "outputs": [
    {
     "name": "stdout",
     "output_type": "stream",
     "text": [
      "[[[ 0  1  2  3]\n",
      "  [ 4  5  6  7]\n",
      "  [ 8  9 10 11]]\n",
      "\n",
      " [[12 13 14 15]\n",
      "  [16 17 18 19]\n",
      "  [20 21 22 23]]]\n"
     ]
    }
   ],
   "source": [
    "# reshape into 3D (axis 0, axis 1, axis 2)\n",
    "x = x.reshape(2, 3, 4)\n",
    "print(x)"
   ]
  },
  {
   "cell_type": "code",
   "execution_count": 12,
   "id": "d4224921",
   "metadata": {},
   "outputs": [
    {
     "name": "stdout",
     "output_type": "stream",
     "text": [
      "[[ 0  1  2  3]\n",
      " [ 4  5  6  7]\n",
      " [ 8  9 10 11]]\n"
     ]
    }
   ],
   "source": [
    "# Selection get first plan\n",
    "print(x[0, :, :])"
   ]
  },
  {
   "cell_type": "code",
   "execution_count": 13,
   "id": "9080b541",
   "metadata": {},
   "outputs": [
    {
     "name": "stdout",
     "output_type": "stream",
     "text": [
      "[[ 0  1  2  3]\n",
      " [12 13 14 15]]\n"
     ]
    }
   ],
   "source": [
    "# Selection get first rows\n",
    "print(x[:, 0, :])"
   ]
  },
  {
   "cell_type": "code",
   "execution_count": 14,
   "id": "afeceed9",
   "metadata": {},
   "outputs": [
    {
     "name": "stdout",
     "output_type": "stream",
     "text": [
      "[[ 0  4  8]\n",
      " [12 16 20]]\n"
     ]
    }
   ],
   "source": [
    "# Selection get first columns\n",
    "print(x[:, :, 0])"
   ]
  },
  {
   "cell_type": "markdown",
   "id": "67a777d5",
   "metadata": {},
   "source": [
    "### Exercise:\n",
    "* get second line\n",
    "* get third column"
   ]
  },
  {
   "cell_type": "code",
   "execution_count": 15,
   "id": "22d4ca93",
   "metadata": {},
   "outputs": [
    {
     "name": "stdout",
     "output_type": "stream",
     "text": [
      "[[0. 1. 2. 3. 4.]\n",
      " [5. 6. 7. 8. 9.]]\n"
     ]
    },
    {
     "data": {
      "text/plain": [
       "array([2., 7.])"
      ]
     },
     "execution_count": 15,
     "metadata": {},
     "output_type": "execute_result"
    }
   ],
   "source": [
    "arr = np.arange(10, dtype=float).reshape((2, 5))\n",
    "print(arr)\n",
    "\n",
    "arr[1, :]  # second line\n",
    "arr[:, 2]  # third column"
   ]
  },
  {
   "cell_type": "code",
   "execution_count": 16,
   "id": "36bb89ea",
   "metadata": {},
   "outputs": [
    {
     "name": "stdout",
     "output_type": "stream",
     "text": [
      "[0. 1. 2. 3. 4. 5. 6. 7. 8. 9.]\n"
     ]
    }
   ],
   "source": [
    "print(arr.flatten())"
   ]
  },
  {
   "cell_type": "markdown",
   "id": "b9fc8fdf",
   "metadata": {},
   "source": [
    "## 5- Stack Arrays"
   ]
  },
  {
   "cell_type": "code",
   "execution_count": 17,
   "id": "f85e974a",
   "metadata": {},
   "outputs": [],
   "source": [
    "a = np.array([0, 1])\n",
    "b = np.array([2, 3])"
   ]
  },
  {
   "cell_type": "markdown",
   "id": "0d389fef",
   "metadata": {},
   "source": [
    "### horizontal stacking"
   ]
  },
  {
   "cell_type": "code",
   "execution_count": 18,
   "id": "d823da5c",
   "metadata": {},
   "outputs": [
    {
     "data": {
      "text/plain": [
       "array([0, 1, 2, 3])"
      ]
     },
     "execution_count": 18,
     "metadata": {},
     "output_type": "execute_result"
    }
   ],
   "source": [
    "np.hstack([a, b])"
   ]
  },
  {
   "cell_type": "markdown",
   "id": "6c061bfb",
   "metadata": {},
   "source": [
    "### vertical stacking"
   ]
  },
  {
   "cell_type": "code",
   "execution_count": 19,
   "id": "f36bf305",
   "metadata": {},
   "outputs": [
    {
     "data": {
      "text/plain": [
       "array([[0, 1],\n",
       "       [2, 3]])"
      ]
     },
     "execution_count": 19,
     "metadata": {},
     "output_type": "execute_result"
    }
   ],
   "source": [
    "np.vstack([a,b])"
   ]
  },
  {
   "cell_type": "code",
   "execution_count": 20,
   "id": "03cb3948",
   "metadata": {},
   "outputs": [
    {
     "data": {
      "text/plain": [
       "array([[0, 1],\n",
       "       [2, 3]])"
      ]
     },
     "execution_count": 20,
     "metadata": {},
     "output_type": "execute_result"
    }
   ],
   "source": [
    "# default vertical\n",
    "np.stack([a,b])"
   ]
  },
  {
   "cell_type": "markdown",
   "id": "ea3c869a",
   "metadata": {},
   "source": [
    "## 6- Selection"
   ]
  },
  {
   "cell_type": "code",
   "execution_count": 21,
   "id": "057fdcca",
   "metadata": {},
   "outputs": [
    {
     "data": {
      "text/plain": [
       "3.0"
      ]
     },
     "execution_count": 21,
     "metadata": {},
     "output_type": "execute_result"
    }
   ],
   "source": [
    "# single item\n",
    "arr = np.arange(10, dtype=float).reshape((2, 5))\n",
    "\n",
    "arr[0]         # 0th element (slices like a list)\n",
    "arr[0, 3]      # row 0, column 3: returns 4\n",
    "arr[0][3]      # alternative syntax"
   ]
  },
  {
   "cell_type": "markdown",
   "id": "b8dcb992",
   "metadata": {},
   "source": [
    "### slicing\n",
    "* Syntax: start:stop:step with start (default 0) stop (default last) step (default 1)"
   ]
  },
  {
   "cell_type": "code",
   "execution_count": 22,
   "id": "dc5cbbc3",
   "metadata": {},
   "outputs": [
    {
     "name": "stdout",
     "output_type": "stream",
     "text": [
      "[[1. 2. 3.]\n",
      " [6. 7. 8.]]\n"
     ]
    }
   ],
   "source": [
    "arr[0, :]      # row 0: returns 1d array ([1, 2, 3, 4])\n",
    "arr[:, 0]      # column 0: returns 1d array ([1, 5])\n",
    "arr[:, :2]     # columns strictly before index 2 (2 first columns)\n",
    "arr[:, 2:]     # columns after index 2 included\n",
    "arr2 = arr[:, 1:4]  # columns between index 1 (included) and 4 (excluded)\n",
    "print(arr2)"
   ]
  },
  {
   "cell_type": "code",
   "execution_count": 23,
   "id": "7598a041",
   "metadata": {},
   "outputs": [
    {
     "name": "stdout",
     "output_type": "stream",
     "text": [
      "[4. 3. 2. 1. 0.]\n"
     ]
    }
   ],
   "source": [
    "# Row 0: reverse order\n",
    "print(arr[0, ::-1])"
   ]
  },
  {
   "cell_type": "markdown",
   "id": "8403eeaf",
   "metadata": {},
   "source": [
    "### Fancy indexing: Integer or boolean array indexing\n",
    "- returns a copy not a view"
   ]
  },
  {
   "cell_type": "code",
   "execution_count": 24,
   "id": "cfbd580b",
   "metadata": {},
   "outputs": [
    {
     "name": "stdout",
     "output_type": "stream",
     "text": [
      "[[1. 2. 3.]\n",
      " [6. 7. 8.]]\n",
      "[[44.  2.  3.]\n",
      " [ 6.  7.  8.]]\n",
      "[[0. 1. 2. 3. 4.]\n",
      " [5. 6. 7. 8. 9.]]\n"
     ]
    }
   ],
   "source": [
    "# Integer array indexing\n",
    "arr2 = arr[:, [1, 2, 3]] # return a copy\n",
    "print(arr2)\n",
    "\n",
    "arr2[0, 0] = 44\n",
    "print(arr2)\n",
    "print(arr)"
   ]
  },
  {
   "cell_type": "code",
   "execution_count": 25,
   "id": "6a4d0d26",
   "metadata": {},
   "outputs": [
    {
     "name": "stdout",
     "output_type": "stream",
     "text": [
      "[6. 7. 8. 9.]\n",
      "[44.  7.  8.  9.]\n",
      "[[0. 1. 2. 3. 4.]\n",
      " [5. 6. 7. 8. 9.]]\n"
     ]
    }
   ],
   "source": [
    "# Boolean array indexing\n",
    "arr2 = arr[arr > 5] # return a copy\n",
    "print(arr2)\n",
    "\n",
    "arr2[0] = 44\n",
    "print(arr2)\n",
    "print(arr)"
   ]
  },
  {
   "cell_type": "code",
   "execution_count": 26,
   "id": "915bfedd",
   "metadata": {},
   "outputs": [
    {
     "data": {
      "text/plain": [
       "array(['Bob', 'Joe'], dtype='<U4')"
      ]
     },
     "execution_count": 26,
     "metadata": {},
     "output_type": "execute_result"
    }
   ],
   "source": [
    "names = np.array(['Bob', 'Joe', 'Will', 'Bob'])\n",
    "names == 'Bob' # returns a boolean array\n",
    "names[names != 'Bob'] # logical selection\n",
    "(names == 'Bob') | (names == 'Will') # keywords \"and/or\" don't work with boolean arrays\n",
    "names[names != 'Bob'] = 'Joe' # assign based on a logical selection\n",
    "np.unique(names) # set function"
   ]
  },
  {
   "cell_type": "markdown",
   "id": "5cdcf93c",
   "metadata": {},
   "source": [
    "## Vectorized Operations"
   ]
  },
  {
   "cell_type": "code",
   "execution_count": 27,
   "id": "5914e5ed",
   "metadata": {},
   "outputs": [
    {
     "data": {
      "text/plain": [
       "array([1.        , 1.        , 3.        , 1.73205081, 5.        ])"
      ]
     },
     "execution_count": 27,
     "metadata": {},
     "output_type": "execute_result"
    }
   ],
   "source": [
    "nums = np.arange(5)\n",
    "nums * 10                           # multiply each element by 10\n",
    "nums = np.sqrt(nums)                # square root of each element\n",
    "np.ceil(nums)                       # also floor, rint (round to nearest int)\n",
    "np.isnan(nums)                      # checks for NaN\n",
    "nums + np.arange(5)                 # add element-wise\n",
    "np.maximum(nums, np.array([1, -2, 3, -4, 5]))  # compare element-wise"
   ]
  },
  {
   "cell_type": "code",
   "execution_count": 28,
   "id": "c575dc83",
   "metadata": {},
   "outputs": [],
   "source": [
    "# Compute Euclidean distance between 2 vectors\n",
    "vec1 = np.random.randn(10)\n",
    "vec2 = np.random.randn(10)\n",
    "dist = np.sqrt(np.sum((vec1 - vec2) ** 2))"
   ]
  },
  {
   "cell_type": "code",
   "execution_count": 29,
   "id": "0e213947",
   "metadata": {},
   "outputs": [
    {
     "data": {
      "text/plain": [
       "array([-1.20552663, -0.28814891,  2.43117722, -0.76518707])"
      ]
     },
     "execution_count": 29,
     "metadata": {},
     "output_type": "execute_result"
    }
   ],
   "source": [
    "# math and stats\n",
    "rnd = np.random.randn(4, 2) # random normals in 4x2 array\n",
    "rnd.mean()\n",
    "rnd.std()\n",
    "rnd.argmin()                # index of minimum element\n",
    "rnd.sum()\n",
    "rnd.sum(axis=0)             # sum of columns\n",
    "rnd.sum(axis=1)             # sum of rows"
   ]
  },
  {
   "cell_type": "code",
   "execution_count": 30,
   "id": "aec25691",
   "metadata": {},
   "outputs": [
    {
     "data": {
      "text/plain": [
       "False"
      ]
     },
     "execution_count": 30,
     "metadata": {},
     "output_type": "execute_result"
    }
   ],
   "source": [
    "# methods for boolean arrays\n",
    "(rnd > 0).sum()             # counts number of positive values\n",
    "(rnd > 0).any()             # checks if any value is True\n",
    "(rnd > 0).all()             # checks if all values are True"
   ]
  },
  {
   "cell_type": "code",
   "execution_count": 31,
   "id": "37bd7cd7",
   "metadata": {},
   "outputs": [
    {
     "data": {
      "text/plain": [
       "array([0, 0, 0, 1, 1, 0, 1, 1, 1, 1])"
      ]
     },
     "execution_count": 31,
     "metadata": {},
     "output_type": "execute_result"
    }
   ],
   "source": [
    "# random numbers\n",
    "np.random.seed(12234)       # Set the seed\n",
    "np.random.rand(2, 3)        # 2 x 3 matrix in [0, 1]\n",
    "np.random.randn(10)         # random normals (mean 0, sd 1)\n",
    "np.random.randint(0, 2, 10) # 10 randomly picked 0 or 1"
   ]
  }
 ],
 "metadata": {
  "kernelspec": {
   "display_name": "Python 3.8.8 ('base')",
   "language": "python",
   "name": "python3"
  },
  "language_info": {
   "codemirror_mode": {
    "name": "ipython",
    "version": 3
   },
   "file_extension": ".py",
   "mimetype": "text/x-python",
   "name": "python",
   "nbconvert_exporter": "python",
   "pygments_lexer": "ipython3",
   "version": "3.8.8"
  },
  "vscode": {
   "interpreter": {
    "hash": "73f7371ea152d1b6049e3db306862fe6b792f14e685475480e5a7595548c3dc7"
   }
  }
 },
 "nbformat": 4,
 "nbformat_minor": 5
}
